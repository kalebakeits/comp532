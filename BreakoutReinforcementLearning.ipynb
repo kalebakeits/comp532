{
  "cells": [
    {
      "cell_type": "code",
      "execution_count": null,
      "id": "bdd6030f",
      "metadata": {
        "id": "bdd6030f",
        "outputId": "0ad935c0-2305-4a9b-ac02-4dec2759329b"
      },
      "outputs": [
        {
          "name": "stdout",
          "output_type": "stream",
          "text": [
            "Requirement already satisfied: tensorflow in c:\\users\\hmtyl\\anaconda3\\lib\\site-packages (2.8.0)\n",
            "Requirement already satisfied: gym in c:\\users\\hmtyl\\anaconda3\\lib\\site-packages (0.21.0)\n",
            "Requirement already satisfied: keras-rl2 in c:\\users\\hmtyl\\anaconda3\\lib\\site-packages (1.0.5)\n",
            "Requirement already satisfied: pyglet in c:\\users\\hmtyl\\anaconda3\\lib\\site-packages (1.5.23)\n",
            "Requirement already satisfied: numpy>=1.18.0 in c:\\users\\hmtyl\\anaconda3\\lib\\site-packages (from gym) (1.20.3)\n",
            "Requirement already satisfied: cloudpickle>=1.2.0 in c:\\users\\hmtyl\\anaconda3\\lib\\site-packages (from gym) (2.0.0)\n",
            "Requirement already satisfied: ale-py~=0.7.1 in c:\\users\\hmtyl\\anaconda3\\lib\\site-packages (from gym) (0.7.4)\n",
            "Requirement already satisfied: autorom[accept-rom-license]~=0.4.2 in c:\\users\\hmtyl\\anaconda3\\lib\\site-packages (from gym) (0.4.2)\n",
            "Requirement already satisfied: typing-extensions>=3.6.6 in c:\\users\\hmtyl\\anaconda3\\lib\\site-packages (from tensorflow) (3.10.0.2)\n",
            "Requirement already satisfied: google-pasta>=0.1.1 in c:\\users\\hmtyl\\anaconda3\\lib\\site-packages (from tensorflow) (0.2.0)\n",
            "Requirement already satisfied: keras-preprocessing>=1.1.1 in c:\\users\\hmtyl\\anaconda3\\lib\\site-packages (from tensorflow) (1.1.2)\n",
            "Requirement already satisfied: tf-estimator-nightly==2.8.0.dev2021122109 in c:\\users\\hmtyl\\anaconda3\\lib\\site-packages (from tensorflow) (2.8.0.dev2021122109)\n",
            "Requirement already satisfied: keras<2.9,>=2.8.0rc0 in c:\\users\\hmtyl\\anaconda3\\lib\\site-packages (from tensorflow) (2.8.0)\n",
            "Requirement already satisfied: protobuf>=3.9.2 in c:\\users\\hmtyl\\anaconda3\\lib\\site-packages (from tensorflow) (3.19.4)\n",
            "Requirement already satisfied: tensorboard<2.9,>=2.8 in c:\\users\\hmtyl\\anaconda3\\lib\\site-packages (from tensorflow) (2.8.0)\n",
            "Requirement already satisfied: tensorflow-io-gcs-filesystem>=0.23.1 in c:\\users\\hmtyl\\anaconda3\\lib\\site-packages (from tensorflow) (0.24.0)\n",
            "Requirement already satisfied: gast>=0.2.1 in c:\\users\\hmtyl\\anaconda3\\lib\\site-packages (from tensorflow) (0.5.3)\n",
            "Requirement already satisfied: six>=1.12.0 in c:\\users\\hmtyl\\anaconda3\\lib\\site-packages (from tensorflow) (1.16.0)\n",
            "Requirement already satisfied: absl-py>=0.4.0 in c:\\users\\hmtyl\\anaconda3\\lib\\site-packages (from tensorflow) (1.0.0)\n",
            "Requirement already satisfied: opt-einsum>=2.3.2 in c:\\users\\hmtyl\\anaconda3\\lib\\site-packages (from tensorflow) (3.3.0)\n",
            "Requirement already satisfied: flatbuffers>=1.12 in c:\\users\\hmtyl\\anaconda3\\lib\\site-packages (from tensorflow) (2.0)\n",
            "Requirement already satisfied: termcolor>=1.1.0 in c:\\users\\hmtyl\\anaconda3\\lib\\site-packages (from tensorflow) (1.1.0)\n",
            "Requirement already satisfied: libclang>=9.0.1 in c:\\users\\hmtyl\\anaconda3\\lib\\site-packages (from tensorflow) (13.0.0)\n",
            "Requirement already satisfied: grpcio<2.0,>=1.24.3 in c:\\users\\hmtyl\\anaconda3\\lib\\site-packages (from tensorflow) (1.44.0)\n",
            "Requirement already satisfied: wrapt>=1.11.0 in c:\\users\\hmtyl\\anaconda3\\lib\\site-packages (from tensorflow) (1.12.1)\n",
            "Requirement already satisfied: astunparse>=1.6.0 in c:\\users\\hmtyl\\anaconda3\\lib\\site-packages (from tensorflow) (1.6.3)\n",
            "Requirement already satisfied: setuptools in c:\\users\\hmtyl\\anaconda3\\lib\\site-packages (from tensorflow) (58.0.4)\n",
            "Requirement already satisfied: h5py>=2.9.0 in c:\\users\\hmtyl\\anaconda3\\lib\\site-packages (from tensorflow) (3.2.1)\n",
            "Requirement already satisfied: importlib-metadata>=4.10.0 in c:\\users\\hmtyl\\anaconda3\\lib\\site-packages (from ale-py~=0.7.1->gym) (4.11.3)\n",
            "Requirement already satisfied: importlib-resources in c:\\users\\hmtyl\\anaconda3\\lib\\site-packages (from ale-py~=0.7.1->gym) (5.6.0)\n",
            "Requirement already satisfied: wheel<1.0,>=0.23.0 in c:\\users\\hmtyl\\anaconda3\\lib\\site-packages (from astunparse>=1.6.0->tensorflow) (0.37.0)\n",
            "Requirement already satisfied: click in c:\\users\\hmtyl\\anaconda3\\lib\\site-packages (from autorom[accept-rom-license]~=0.4.2->gym) (8.0.3)\n",
            "Requirement already satisfied: requests in c:\\users\\hmtyl\\anaconda3\\lib\\site-packages (from autorom[accept-rom-license]~=0.4.2->gym) (2.26.0)\n",
            "Requirement already satisfied: tqdm in c:\\users\\hmtyl\\anaconda3\\lib\\site-packages (from autorom[accept-rom-license]~=0.4.2->gym) (4.62.3)\n",
            "Requirement already satisfied: AutoROM.accept-rom-license in c:\\users\\hmtyl\\anaconda3\\lib\\site-packages (from autorom[accept-rom-license]~=0.4.2->gym) (0.4.2)\n",
            "Requirement already satisfied: zipp>=0.5 in c:\\users\\hmtyl\\anaconda3\\lib\\site-packages (from importlib-metadata>=4.10.0->ale-py~=0.7.1->gym) (3.6.0)\n",
            "Requirement already satisfied: markdown>=2.6.8 in c:\\users\\hmtyl\\anaconda3\\lib\\site-packages (from tensorboard<2.9,>=2.8->tensorflow) (3.3.6)\n",
            "Requirement already satisfied: tensorboard-data-server<0.7.0,>=0.6.0 in c:\\users\\hmtyl\\anaconda3\\lib\\site-packages (from tensorboard<2.9,>=2.8->tensorflow) (0.6.1)\n",
            "Requirement already satisfied: google-auth-oauthlib<0.5,>=0.4.1 in c:\\users\\hmtyl\\anaconda3\\lib\\site-packages (from tensorboard<2.9,>=2.8->tensorflow) (0.4.6)\n",
            "Requirement already satisfied: google-auth<3,>=1.6.3 in c:\\users\\hmtyl\\anaconda3\\lib\\site-packages (from tensorboard<2.9,>=2.8->tensorflow) (2.6.2)\n",
            "Requirement already satisfied: tensorboard-plugin-wit>=1.6.0 in c:\\users\\hmtyl\\anaconda3\\lib\\site-packages (from tensorboard<2.9,>=2.8->tensorflow) (1.8.1)\n",
            "Requirement already satisfied: werkzeug>=0.11.15 in c:\\users\\hmtyl\\anaconda3\\lib\\site-packages (from tensorboard<2.9,>=2.8->tensorflow) (2.0.2)\n",
            "Requirement already satisfied: rsa<5,>=3.1.4 in c:\\users\\hmtyl\\anaconda3\\lib\\site-packages (from google-auth<3,>=1.6.3->tensorboard<2.9,>=2.8->tensorflow) (4.8)\n",
            "Requirement already satisfied: pyasn1-modules>=0.2.1 in c:\\users\\hmtyl\\anaconda3\\lib\\site-packages (from google-auth<3,>=1.6.3->tensorboard<2.9,>=2.8->tensorflow) (0.2.8)\n",
            "Requirement already satisfied: cachetools<6.0,>=2.0.0 in c:\\users\\hmtyl\\anaconda3\\lib\\site-packages (from google-auth<3,>=1.6.3->tensorboard<2.9,>=2.8->tensorflow) (5.0.0)\n",
            "Requirement already satisfied: requests-oauthlib>=0.7.0 in c:\\users\\hmtyl\\anaconda3\\lib\\site-packages (from google-auth-oauthlib<0.5,>=0.4.1->tensorboard<2.9,>=2.8->tensorflow) (1.3.1)\n",
            "Requirement already satisfied: pyasn1<0.5.0,>=0.4.6 in c:\\users\\hmtyl\\anaconda3\\lib\\site-packages (from pyasn1-modules>=0.2.1->google-auth<3,>=1.6.3->tensorboard<2.9,>=2.8->tensorflow) (0.4.8)\n",
            "Requirement already satisfied: idna<4,>=2.5 in c:\\users\\hmtyl\\anaconda3\\lib\\site-packages (from requests->autorom[accept-rom-license]~=0.4.2->gym) (3.2)\n",
            "Requirement already satisfied: certifi>=2017.4.17 in c:\\users\\hmtyl\\anaconda3\\lib\\site-packages (from requests->autorom[accept-rom-license]~=0.4.2->gym) (2021.10.8)\n",
            "Requirement already satisfied: charset-normalizer~=2.0.0 in c:\\users\\hmtyl\\anaconda3\\lib\\site-packages (from requests->autorom[accept-rom-license]~=0.4.2->gym) (2.0.4)\n",
            "Requirement already satisfied: urllib3<1.27,>=1.21.1 in c:\\users\\hmtyl\\anaconda3\\lib\\site-packages (from requests->autorom[accept-rom-license]~=0.4.2->gym) (1.26.7)\n",
            "Requirement already satisfied: oauthlib>=3.0.0 in c:\\users\\hmtyl\\anaconda3\\lib\\site-packages (from requests-oauthlib>=0.7.0->google-auth-oauthlib<0.5,>=0.4.1->tensorboard<2.9,>=2.8->tensorflow) (3.2.0)\n",
            "Requirement already satisfied: colorama in c:\\users\\hmtyl\\anaconda3\\lib\\site-packages (from click->autorom[accept-rom-license]~=0.4.2->gym) (0.4.4)\n"
          ]
        }
      ],
      "source": [
        "!pip install tensorflow gym keras-rl2 gym[atari,accept-rom-license]==0.21.0 pyglet"
      ]
    },
    {
      "cell_type": "code",
      "execution_count": null,
      "id": "c2609c67",
      "metadata": {
        "id": "c2609c67"
      },
      "outputs": [],
      "source": [
        "import gym\n",
        "import random"
      ]
    },
    {
      "cell_type": "code",
      "execution_count": null,
      "id": "285bb896",
      "metadata": {
        "id": "285bb896"
      },
      "outputs": [],
      "source": [
        "env=gym.make('SpaceInvaders-v0',render_mode='human')\n",
        "height,width,channels=env.observation_space.shape\n",
        "actions=env.action_space.n"
      ]
    },
    {
      "cell_type": "code",
      "execution_count": null,
      "id": "380eb19f",
      "metadata": {
        "id": "380eb19f",
        "outputId": "96315aa2-5117-4565-d8e6-eb5e6bde61a8"
      },
      "outputs": [
        {
          "data": {
            "text/plain": [
              "['NOOP', 'FIRE', 'RIGHT', 'LEFT', 'RIGHTFIRE', 'LEFTFIRE']"
            ]
          },
          "execution_count": 4,
          "metadata": {},
          "output_type": "execute_result"
        }
      ],
      "source": [
        "env.unwrapped.get_action_meanings()"
      ]
    },
    {
      "cell_type": "code",
      "execution_count": null,
      "id": "5d7f1422",
      "metadata": {
        "id": "5d7f1422",
        "outputId": "b3749659-adde-4948-e084-43c2a0c8493e"
      },
      "outputs": [
        {
          "name": "stderr",
          "output_type": "stream",
          "text": [
            "C:\\Users\\HMTyl\\anaconda3\\lib\\site-packages\\gym\\envs\\atari\\environment.py:267: UserWarning: \u001b[33mWARN: We strongly suggest supplying `render_mode` when constructing your environment, e.g., gym.make(ID, render_mode='human'). Using `render_mode` provides access to proper scaling, audio support, and proper framerates.\u001b[0m\n",
            "  logger.warn(\n",
            "C:\\Users\\HMTyl\\anaconda3\\lib\\site-packages\\pyglet\\image\\codecs\\wic.py:434: UserWarning: [WinError -2147417850] Cannot change thread mode after it is set\n",
            "  warnings.warn(str(err))\n"
          ]
        },
        {
          "name": "stdout",
          "output_type": "stream",
          "text": [
            "Episode:0 Score:55.0\n",
            "Episode:1 Score:320.0\n",
            "Episode:2 Score:35.0\n",
            "Episode:3 Score:490.0\n",
            "Episode:4 Score:250.0\n"
          ]
        }
      ],
      "source": [
        "episodes=5\n",
        "for episode in range(episodes):\n",
        "    state=env.reset()\n",
        "    done=False\n",
        "    score=0\n",
        "    \n",
        "    while not done:\n",
        "        env.render()\n",
        "        action=random.choice([0,1,2,3,4,5])\n",
        "        n_state,reward,done,info=env.step(action)\n",
        "        score+=reward\n",
        "    print(\"Episode:{} Score:{}\".format(episode,score))\n",
        "env.close()"
      ]
    },
    {
      "cell_type": "code",
      "execution_count": null,
      "id": "916986e4",
      "metadata": {
        "id": "916986e4"
      },
      "outputs": [],
      "source": [
        "import numpy as np\n",
        "import tensorflow as tf"
      ]
    },
    {
      "cell_type": "code",
      "execution_count": null,
      "id": "6fbdd1e0",
      "metadata": {
        "id": "6fbdd1e0"
      },
      "outputs": [],
      "source": [
        "model = tf.keras.models.Sequential([\n",
        "    tf.keras.layers.Conv2D(filters=32,kernel_size=(8,8),strides=(4,4),activation='relu',input_shape=(3,height,width,channels)),\n",
        "    tf.keras.layers.Conv2D(filters=64,kernel_size=(4,4),strides=(2,2),activation='relu'),\n",
        "    tf.keras.layers.Conv2D(filters=64,kernel_size=(3,3),activation='relu'),\n",
        "    tf.keras.layers.Flatten(),\n",
        "    tf.keras.layers.Dense(512,activation='relu'),\n",
        "    tf.keras.layers.Dense(256,activation='relu'),\n",
        "    tf.keras.layers.Dense(actions,activation='linear')\n",
        "])"
      ]
    },
    {
      "cell_type": "code",
      "execution_count": null,
      "id": "228c5970",
      "metadata": {
        "id": "228c5970",
        "outputId": "9cd19dc1-f5e1-455d-e3c1-1f772b367e7c"
      },
      "outputs": [
        {
          "name": "stdout",
          "output_type": "stream",
          "text": [
            "Model: \"sequential_1\"\n",
            "_________________________________________________________________\n",
            " Layer (type)                Output Shape              Param #   \n",
            "=================================================================\n",
            " conv2d_3 (Conv2D)           (None, 3, 51, 39, 32)     6176      \n",
            "                                                                 \n",
            " conv2d_4 (Conv2D)           (None, 3, 24, 18, 64)     32832     \n",
            "                                                                 \n",
            " conv2d_5 (Conv2D)           (None, 3, 22, 16, 64)     36928     \n",
            "                                                                 \n",
            " flatten_1 (Flatten)         (None, 67584)             0         \n",
            "                                                                 \n",
            " dense_3 (Dense)             (None, 512)               34603520  \n",
            "                                                                 \n",
            " dense_4 (Dense)             (None, 256)               131328    \n",
            "                                                                 \n",
            " dense_5 (Dense)             (None, 6)                 1542      \n",
            "                                                                 \n",
            "=================================================================\n",
            "Total params: 34,812,326\n",
            "Trainable params: 34,812,326\n",
            "Non-trainable params: 0\n",
            "_________________________________________________________________\n"
          ]
        }
      ],
      "source": [
        "model.summary()"
      ]
    },
    {
      "cell_type": "code",
      "execution_count": null,
      "id": "d60e849b",
      "metadata": {
        "id": "d60e849b"
      },
      "outputs": [],
      "source": [
        "from rl.agents import DQNAgent\n",
        "from rl.memory import SequentialMemory\n",
        "from rl.policy import EpsGreedyQPolicy, LinearAnnealedPolicy"
      ]
    },
    {
      "cell_type": "code",
      "execution_count": null,
      "id": "579c12a9",
      "metadata": {
        "id": "579c12a9"
      },
      "outputs": [],
      "source": [
        "def build_agent(model,actions):\n",
        "    policy = LinearAnnealedPolicy(EpsGreedyQPolicy(),attr='eps',value_max=1.,value_min=.1,value_test=.2,nb_steps=10000)\n",
        "    memory = SequentialMemory(limit=1000,window_length=3)\n",
        "    dqn = DQNAgent(model=model, memory=memory, policy=policy,\n",
        "                  enable_dueling_network=True,dueling_type='avg',\n",
        "                  nb_actions=actions,nb_steps_warmup=10000)\n",
        "    return dqn"
      ]
    },
    {
      "cell_type": "code",
      "execution_count": null,
      "id": "890bfeaa",
      "metadata": {
        "id": "890bfeaa",
        "outputId": "ff1ff4ab-04f3-4528-b5c2-53b41fdebf67"
      },
      "outputs": [
        {
          "name": "stderr",
          "output_type": "stream",
          "text": [
            "C:\\Users\\HMTyl\\anaconda3\\lib\\site-packages\\keras\\optimizer_v2\\adam.py:105: UserWarning: The `lr` argument is deprecated, use `learning_rate` instead.\n",
            "  super(Adam, self).__init__(name, **kwargs)\n"
          ]
        },
        {
          "name": "stdout",
          "output_type": "stream",
          "text": [
            "Training for 10000 steps ...\n"
          ]
        },
        {
          "name": "stderr",
          "output_type": "stream",
          "text": [
            "C:\\Users\\HMTyl\\anaconda3\\lib\\site-packages\\keras\\engine\\training_v1.py:2079: UserWarning: `Model.state_updates` will be removed in a future version. This property should not be used in TensorFlow 2.0, as `updates` are applied automatically.\n",
            "  updates=self.state_updates,\n"
          ]
        },
        {
          "name": "stdout",
          "output_type": "stream",
          "text": [
            "  487/10000: episode: 1, duration: 69.329s, episode steps: 487, steps per second:   7, episode reward: 135.000, mean reward:  0.277 [ 0.000, 30.000], mean action: 2.616 [0.000, 5.000],  loss: --, mean_q: --, mean_eps: --\n",
            " 1531/10000: episode: 2, duration: 139.902s, episode steps: 1044, steps per second:   7, episode reward: 280.000, mean reward:  0.268 [ 0.000, 30.000], mean action: 2.618 [0.000, 5.000],  loss: --, mean_q: --, mean_eps: --\n",
            " 2787/10000: episode: 3, duration: 168.993s, episode steps: 1256, steps per second:   7, episode reward: 315.000, mean reward:  0.251 [ 0.000, 30.000], mean action: 2.698 [0.000, 5.000],  loss: --, mean_q: --, mean_eps: --\n",
            " 3813/10000: episode: 4, duration: 138.168s, episode steps: 1026, steps per second:   7, episode reward: 540.000, mean reward:  0.526 [ 0.000, 30.000], mean action: 2.906 [0.000, 5.000],  loss: --, mean_q: --, mean_eps: --\n",
            " 4674/10000: episode: 5, duration: 114.377s, episode steps: 861, steps per second:   8, episode reward: 150.000, mean reward:  0.174 [ 0.000, 30.000], mean action: 2.998 [0.000, 5.000],  loss: --, mean_q: --, mean_eps: --\n",
            " 5609/10000: episode: 6, duration: 125.332s, episode steps: 935, steps per second:   7, episode reward: 230.000, mean reward:  0.246 [ 0.000, 30.000], mean action: 2.890 [0.000, 5.000],  loss: --, mean_q: --, mean_eps: --\n",
            " 5991/10000: episode: 7, duration: 50.959s, episode steps: 382, steps per second:   7, episode reward: 45.000, mean reward:  0.118 [ 0.000, 10.000], mean action: 3.139 [0.000, 5.000],  loss: --, mean_q: --, mean_eps: --\n",
            " 6741/10000: episode: 8, duration: 99.044s, episode steps: 750, steps per second:   8, episode reward: 135.000, mean reward:  0.180 [ 0.000, 30.000], mean action: 3.064 [0.000, 5.000],  loss: --, mean_q: --, mean_eps: --\n",
            " 7115/10000: episode: 9, duration: 49.365s, episode steps: 374, steps per second:   8, episode reward: 85.000, mean reward:  0.227 [ 0.000, 20.000], mean action: 3.283 [0.000, 5.000],  loss: --, mean_q: --, mean_eps: --\n",
            " 8132/10000: episode: 10, duration: 135.224s, episode steps: 1017, steps per second:   8, episode reward: 275.000, mean reward:  0.270 [ 0.000, 30.000], mean action: 3.144 [0.000, 5.000],  loss: --, mean_q: --, mean_eps: --\n",
            " 8814/10000: episode: 11, duration: 89.291s, episode steps: 682, steps per second:   8, episode reward: 180.000, mean reward:  0.264 [ 0.000, 25.000], mean action: 3.380 [0.000, 5.000],  loss: --, mean_q: --, mean_eps: --\n",
            " 9756/10000: episode: 12, duration: 125.217s, episode steps: 942, steps per second:   8, episode reward: 360.000, mean reward:  0.382 [ 0.000, 30.000], mean action: 3.398 [0.000, 5.000],  loss: --, mean_q: --, mean_eps: --\n",
            "done, took 1337.646 seconds\n"
          ]
        },
        {
          "data": {
            "text/plain": [
              "<keras.callbacks.History at 0x29081b0dcd0>"
            ]
          },
          "execution_count": 18,
          "metadata": {},
          "output_type": "execute_result"
        }
      ],
      "source": [
        "dqn = build_agent(model,actions)\n",
        "dqn.compile(tf.keras.optimizers.Adam(learning_rate=1e-4))\n",
        "dqn.fit(env,nb_steps=10000,visualize=False,verbose=2)"
      ]
    },
    {
      "cell_type": "code",
      "execution_count": null,
      "id": "cd084e7f",
      "metadata": {
        "id": "cd084e7f",
        "outputId": "c24da46b-3c43-4a98-9b63-4cfe36163fa5"
      },
      "outputs": [
        {
          "name": "stdout",
          "output_type": "stream",
          "text": [
            "Testing for 10 episodes ...\n"
          ]
        },
        {
          "name": "stderr",
          "output_type": "stream",
          "text": [
            "C:\\Users\\HMTyl\\anaconda3\\lib\\site-packages\\gym\\envs\\atari\\environment.py:267: UserWarning: \u001b[33mWARN: We strongly suggest supplying `render_mode` when constructing your environment, e.g., gym.make(ID, render_mode='human'). Using `render_mode` provides access to proper scaling, audio support, and proper framerates.\u001b[0m\n",
            "  logger.warn(\n"
          ]
        },
        {
          "name": "stdout",
          "output_type": "stream",
          "text": [
            "Episode 1: reward: 30.000, steps: 470\n",
            "Episode 2: reward: 150.000, steps: 551\n",
            "Episode 3: reward: 160.000, steps: 513\n",
            "Episode 4: reward: 60.000, steps: 448\n",
            "Episode 5: reward: 385.000, steps: 711\n",
            "Episode 6: reward: 65.000, steps: 394\n",
            "Episode 7: reward: 170.000, steps: 901\n",
            "Episode 8: reward: 170.000, steps: 664\n",
            "Episode 9: reward: 35.000, steps: 400\n",
            "Episode 10: reward: 135.000, steps: 630\n",
            "136.0\n"
          ]
        }
      ],
      "source": [
        "scores = dqn.test(env,nb_episodes=10,visualize=True)\n",
        "print(np.mean(scores.history['episode_reward']))"
      ]
    },
    {
      "cell_type": "code",
      "execution_count": null,
      "id": "10213fd0",
      "metadata": {
        "id": "10213fd0"
      },
      "outputs": [],
      "source": [
        ""
      ]
    }
  ],
  "metadata": {
    "kernelspec": {
      "display_name": "Python 3 (ipykernel)",
      "language": "python",
      "name": "python3"
    },
    "language_info": {
      "codemirror_mode": {
        "name": "ipython",
        "version": 3
      },
      "file_extension": ".py",
      "mimetype": "text/x-python",
      "name": "python",
      "nbconvert_exporter": "python",
      "pygments_lexer": "ipython3",
      "version": "3.9.7"
    },
    "colab": {
      "name": "SpaceInvadersReinforcementLearning.ipynb",
      "provenance": []
    }
  },
  "nbformat": 4,
  "nbformat_minor": 5
}